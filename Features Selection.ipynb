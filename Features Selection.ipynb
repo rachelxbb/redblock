{
 "cells": [
  {
   "cell_type": "code",
   "execution_count": 1,
   "metadata": {},
   "outputs": [],
   "source": [
    "from sklearn import tree\n",
    "import matplotlib.pyplot as plt\n",
    "from IPython.core.pylabtools import figsize\n",
    "import graphviz \n",
    "from sklearn.ensemble import RandomForestRegressor\n",
    "from sklearn.ensemble import RandomForestClassifier\n",
    "import numpy as np\n",
    "import pandas as pd\n",
    "import seaborn as sns"
   ]
  },
  {
   "cell_type": "markdown",
   "metadata": {},
   "source": [
    "### Functions"
   ]
  },
  {
   "cell_type": "code",
   "execution_count": 2,
   "metadata": {},
   "outputs": [],
   "source": [
    "#Load Datasets.\n",
    "def load_data(file):\n",
    "    X = []\n",
    "    with open(file, 'r') as fh:\n",
    "        for row in fh:\n",
    "            r = row.strip('\\n').split(',')\n",
    "            X.append(r[1:])\n",
    "    \n",
    "    ind = X[0].index('price_usd_low')\n",
    "    features = X[0][:ind]+X[0][ind+1:]\n",
    "    Y = []\n",
    "    for x in X[1:]:\n",
    "        Y.append(x[ind])\n",
    "        del x[ind]\n",
    "    return features, X[1:], Y"
   ]
  },
  {
   "cell_type": "code",
   "execution_count": 3,
   "metadata": {},
   "outputs": [],
   "source": [
    "#Discover the importance of each feature.\n",
    "def feature_importance(feature, X, Y):\n",
    "    rf_reg = RandomForestRegressor(n_estimators=200, n_jobs=-1)\n",
    "    rf_reg.fit(X, Y)\n",
    "    importances = rf_reg.feature_importances_\n",
    "    indices = np.argsort(importances)[::-1]\n",
    "    features = []\n",
    "    for i in indices:\n",
    "        features.append((feature[i], importances[i]))\n",
    "    return features, indices"
   ]
  },
  {
   "cell_type": "code",
   "execution_count": 4,
   "metadata": {},
   "outputs": [],
   "source": [
    "#Extract the top features with importance >= 0.1\n",
    "def top_features(features):\n",
    "    features_top = []\n",
    "    for f in features_total[0]:\n",
    "        if f[1] >= 0.01:\n",
    "            features_top.append(f)\n",
    "    return features_top"
   ]
  },
  {
   "cell_type": "markdown",
   "metadata": {},
   "source": [
    "### 20200301-20200820"
   ]
  },
  {
   "cell_type": "code",
   "execution_count": 5,
   "metadata": {
    "scrolled": true
   },
   "outputs": [],
   "source": [
    "feature = load_data('CrypotQuant_BTC_20200301-20200820.csv')[0]\n",
    "X = load_data('CrypotQuant_BTC_20200301-20200820.csv')[1]\n",
    "Y = load_data('CrypotQuant_BTC_20200301-20200820.csv')[2]\n",
    "features_total = feature_importance(feature, X, Y)\n",
    "features_top = top_features(features_total)\n",
    "# print(features_total)\n",
    "# print(features_top)"
   ]
  },
  {
   "cell_type": "markdown",
   "metadata": {},
   "source": [
    "### 20190101-20200229"
   ]
  },
  {
   "cell_type": "code",
   "execution_count": 6,
   "metadata": {},
   "outputs": [],
   "source": [
    "feature = load_data('CrypotQuant_BTC_20190101-20200229.csv')[0]\n",
    "X = load_data('CrypotQuant_BTC_20190101-20200229.csv')[1]\n",
    "Y = load_data('CrypotQuant_BTC_20190101-20200229.csv')[2]\n",
    "features_total = feature_importance(feature, X, Y)\n",
    "features_top = top_features(features_total)\n",
    "# print(features_total)\n",
    "# print(features_top)"
   ]
  },
  {
   "cell_type": "markdown",
   "metadata": {},
   "source": [
    "### 20180101-20181231"
   ]
  },
  {
   "cell_type": "code",
   "execution_count": 7,
   "metadata": {},
   "outputs": [],
   "source": [
    "feature = load_data('CrypotQuant_BTC_20180101-20181231.csv')[0]\n",
    "X = load_data('CrypotQuant_BTC_20180101-20181231.csv')[1]\n",
    "Y = load_data('CrypotQuant_BTC_20180101-20181231.csv')[2]\n",
    "features_total = feature_importance(feature, X, Y)\n",
    "features_top = top_features(features_total)\n",
    "# print(features_total)\n",
    "# print(features_top)"
   ]
  },
  {
   "cell_type": "markdown",
   "metadata": {},
   "source": [
    "### 20170817-20171231"
   ]
  },
  {
   "cell_type": "code",
   "execution_count": 8,
   "metadata": {},
   "outputs": [],
   "source": [
    "feature = load_data('CrypotQuant_BTC_20170817-20171231.csv')[0]\n",
    "X = load_data('CrypotQuant_BTC_20170817-20171231.csv')[1]\n",
    "Y = load_data('CrypotQuant_BTC_20170817-20171231.csv')[2]\n",
    "features_total = feature_importance(feature, X, Y)\n",
    "features_top = top_features(features_total)\n",
    "# print(features_total)\n",
    "# print(features_top)"
   ]
  }
 ],
 "metadata": {
  "kernelspec": {
   "display_name": "Python 3",
   "language": "python",
   "name": "python3"
  },
  "language_info": {
   "codemirror_mode": {
    "name": "ipython",
    "version": 3
   },
   "file_extension": ".py",
   "mimetype": "text/x-python",
   "name": "python",
   "nbconvert_exporter": "python",
   "pygments_lexer": "ipython3",
   "version": "3.8.3"
  }
 },
 "nbformat": 4,
 "nbformat_minor": 2
}
